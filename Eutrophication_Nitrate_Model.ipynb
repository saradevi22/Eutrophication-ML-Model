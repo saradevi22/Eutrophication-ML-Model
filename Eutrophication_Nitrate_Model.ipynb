{
 "cells": [
  {
   "cell_type": "code",
   "execution_count": 193,
   "id": "7fad6f21",
   "metadata": {},
   "outputs": [],
   "source": [
    "# Important necessary libraries, tools and frameworks \n",
    "import pandas as pd\n",
    "import numpy as np \n",
    "from sklearn import preprocessing \n",
    "from sklearn.ensemble import RandomForestRegressor \n",
    "from sklearn.model_selection import train_test_split \n",
    "from sklearn.metrics import mean_squared_error\n",
    "from sklearn.metrics import mean_absolute_error\n",
    "from sklearn import metrics \n",
    "\n",
    "# Gets directory in order to obtain location of dataset \n",
    "import os \n",
    "working_directory = os.getcwd() "
   ]
  },
  {
   "cell_type": "code",
   "execution_count": 194,
   "id": "45e48e9a",
   "metadata": {},
   "outputs": [],
   "source": [
    "# Import dataset \n",
    "df = pd.read_csv(working_directory + \"/waterchem.csv\")\n",
    "\n",
    "# Fill NaN values \n",
    "df = df.fillna(0)"
   ]
  },
  {
   "cell_type": "code",
   "execution_count": 195,
   "id": "33b2dba6",
   "metadata": {},
   "outputs": [
    {
     "name": "stdout",
     "output_type": "stream",
     "text": [
      "      Color.PtCo    pH\n",
      "0           20.0  5.42\n",
      "1           20.0  5.23\n",
      "2           20.0  5.20\n",
      "3           25.0  5.28\n",
      "4           25.0  5.12\n",
      "...          ...   ...\n",
      "6277        15.0  7.43\n",
      "6278        15.0  7.33\n",
      "6279        25.0  7.26\n",
      "6280        20.0  7.31\n",
      "6281        30.0  7.10\n",
      "\n",
      "[6282 rows x 2 columns]\n",
      "0       1.137\n",
      "1       1.450\n",
      "2       1.822\n",
      "3       1.968\n",
      "4       2.007\n",
      "        ...  \n",
      "6277    0.771\n",
      "6278    0.317\n",
      "6279    0.404\n",
      "6280    0.705\n",
      "6281    1.131\n",
      "Name: NO3_minus, Length: 6282, dtype: float64\n"
     ]
    }
   ],
   "source": [
    "# Set features and target variable\n",
    "# \"SO4_minus2\",\"NO3_minus\",\"CL\",\"Fluor\",\"ANC.ueq.L\",\"DIC\",\"DOC\",\"SiO2\",\"Calcium\",\"Mg\",\"Sodium\",\"Potassium\",\"NH4_plus\",\"AL_TD.ug.L\",\"AL_TM.ug.L\",\"AL_OM.ug.L\",\"AL_IM.ug.L\",\"pH\",\"Color.PtCo\",\"conduct.uS.cm\"\n",
    "# feature_cols = ['SO4_minus2','NO3_minus','Calcium', 'Color.PtCo', 'NH4_plus']\n",
    "feature_cols = ['Color.PtCo', 'pH']\n",
    "X = df[feature_cols]\n",
    "y = df.NO3_minus\n",
    "\n",
    "print(X)\n",
    "print(y)\n",
    "\n",
    "# Split data into training set and testing set (8:2 ratio)\n",
    "X_train, X_test, y_train, y_test = train_test_split(X, y, test_size=0.2, random_state=42)\n",
    "\n"
   ]
  },
  {
   "cell_type": "code",
   "execution_count": 196,
   "id": "d8002e83",
   "metadata": {},
   "outputs": [],
   "source": [
    "# Create model -- Random Forest\n",
    "rf = RandomForestRegressor(max_depth=2, random_state=42)\n",
    "rf.fit(X_train, y_train)\n",
    "\n",
    "# Make predictions \n",
    "y_rf_train_pred = rf.predict(X_train)\n",
    "y_rf_test_pred = rf.predict(X_test)"
   ]
  },
  {
   "cell_type": "code",
   "execution_count": 197,
   "id": "def38d7d",
   "metadata": {},
   "outputs": [
    {
     "name": "stdout",
     "output_type": "stream",
     "text": [
      "          Method Training MSE  Test MSE Training RMSE Test RMSE Training MAE  \\\n",
      "0  Random Forest     0.613225  0.634356      0.783087  0.796465     0.572574   \n",
      "\n",
      "   Test MAE  \n",
      "0  0.579216  \n"
     ]
    }
   ],
   "source": [
    "# Model Performance \n",
    "\n",
    "\n",
    "# Mean Squared Error \n",
    "rf_train_mse = mean_squared_error(y_train, y_rf_train_pred)\n",
    "rf_test_mse = mean_squared_error(y_test, y_rf_test_pred)\n",
    "\n",
    "\n",
    "# Root MSE\n",
    "rf_train_rmse = mean_squared_error(y_train, y_rf_train_pred, squared=False)\n",
    "rf_test_rmse = mean_squared_error(y_test, y_rf_test_pred, squared=False)\n",
    "\n",
    "\n",
    "# Mean Absolute Error\n",
    "rf_train_mae = mean_absolute_error(y_train, y_rf_train_pred)\n",
    "rf_test_mae = mean_absolute_error(y_test, y_rf_test_pred)\n",
    "\n",
    "\n",
    "# Print out results\n",
    "rf_results = pd.DataFrame(['Random Forest', rf_train_mse, rf_test_mse, rf_train_rmse, rf_test_rmse, rf_train_mae, rf_test_mae]).transpose()\n",
    "rf_results.columns = ['Method', 'Training MSE','Test MSE', 'Training RMSE', 'Test RMSE', 'Training MAE', 'Test MAE']\n",
    "\n",
    "print(rf_results)"
   ]
  },
  {
   "cell_type": "code",
   "execution_count": 198,
   "id": "84fa3404",
   "metadata": {},
   "outputs": [
    {
     "name": "stdout",
     "output_type": "stream",
     "text": [
      "X=[5.0, 14.0], Predicted=0.8447801190377809\n"
     ]
    }
   ],
   "source": [
    "# Use the model \n",
    "\n",
    "# Define data instance\n",
    "Xnew = [[5.0, 14.0]]\n",
    "\n",
    "# Make a prediction\n",
    "ynew = rf.predict(Xnew)\n",
    "\n",
    "# Show the inputs and predicted outputs\n",
    "print(\"X=%s, Predicted=%s\" % (Xnew[0], ynew[0]))\n",
    "\n"
   ]
  },
  {
   "cell_type": "code",
   "execution_count": null,
   "id": "27f3edf1",
   "metadata": {},
   "outputs": [],
   "source": []
  }
 ],
 "metadata": {
  "kernelspec": {
   "display_name": "Python 3 (ipykernel)",
   "language": "python",
   "name": "python3"
  },
  "language_info": {
   "codemirror_mode": {
    "name": "ipython",
    "version": 3
   },
   "file_extension": ".py",
   "mimetype": "text/x-python",
   "name": "python",
   "nbconvert_exporter": "python",
   "pygments_lexer": "ipython3",
   "version": "3.9.7"
  }
 },
 "nbformat": 4,
 "nbformat_minor": 5
}
