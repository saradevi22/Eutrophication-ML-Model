{
 "cells": [
  {
   "cell_type": "code",
   "execution_count": 641,
   "id": "6acdd429",
   "metadata": {},
   "outputs": [],
   "source": [
    "# Important necessary libraries, tools and frameworks \n",
    "import pandas as pd\n",
    "import numpy as np \n",
    "from sklearn import preprocessing \n",
    "from sklearn.ensemble import RandomForestRegressor \n",
    "from sklearn.model_selection import train_test_split \n",
    "from sklearn.metrics import mean_squared_error\n",
    "from sklearn import metrics \n",
    "\n",
    "# Gets directory in order to obtain location of dataset \n",
    "import os \n",
    "working_directory = os.getcwd() "
   ]
  },
  {
   "cell_type": "code",
   "execution_count": 642,
   "id": "ffc27b8a",
   "metadata": {},
   "outputs": [
    {
     "name": "stdout",
     "output_type": "stream",
     "text": [
      "     drainage_area  surface_area  total_inflow   tin\n",
      "0              0.0          1.94          0.00  0.09\n",
      "1            282.3          0.57          0.08  0.09\n",
      "2         463091.8         77.30        306.02  0.17\n",
      "3             93.5          0.30          0.11  0.05\n",
      "4           2046.1          5.67          0.80  0.06\n",
      "..             ...           ...           ...   ...\n",
      "770         2652.9         80.94         28.30  0.41\n",
      "771        11924.4          8.25        167.20  1.08\n",
      "772         3654.5          7.00         88.40  0.49\n",
      "773         2082.4         11.02         53.10  0.66\n",
      "774         3537.9          7.08         73.20  0.43\n",
      "\n",
      "[775 rows x 4 columns]\n",
      "0      0.820\n",
      "1      0.640\n",
      "2      0.540\n",
      "3      0.720\n",
      "4      0.430\n",
      "       ...  \n",
      "770    0.735\n",
      "771    1.380\n",
      "772    0.710\n",
      "773    0.940\n",
      "774    0.640\n",
      "Name: tn, Length: 775, dtype: float64\n"
     ]
    }
   ],
   "source": [
    "# Import dataset \n",
    "df = pd.read_csv(working_directory + \"/NES_Data - Eutrophication.csv\")\n",
    "\n",
    "\n",
    "# Drop some columns of the data and replace NaN values with 0 \n",
    "df.drop('n_pnt_source_industrial', inplace=True, axis=1)\n",
    "df = df.fillna(0)\n",
    "\n",
    "\n",
    "# Split dataset into features and target variables \n",
    "#feature_cols = ['total_inflow', 'drainage_area', 'surface_area', 'mean_depth', 'conductivity', 'sechhi', 'tp', 'po4', 'tin', 'tn', 'p_total', 'n_pnt_source_muni','n_pnt_source_septic', 'n_nonpnt_source', 'n_total', 'p_total_out', 'p_percent_retention', 'p_surface_area_loading', 'n_total_out', 'n_percent_retention', 'n_surface_area_loading']\n",
    "feature_cols = ['drainage_area', 'surface_area', 'total_inflow', 'tin']\n",
    "X = df[feature_cols]\n",
    "y = df.tn\n",
    "\n",
    "print(X)\n",
    "print(y)\n",
    "\n",
    "\n",
    "\n",
    "# Split data into training set and testing set (8:2 ratio)\n",
    "X_train, X_test, y_train, y_test = train_test_split(X, y, test_size=0.2, random_state=42)\n",
    "\n"
   ]
  },
  {
   "cell_type": "code",
   "execution_count": 643,
   "id": "7b4425eb",
   "metadata": {},
   "outputs": [],
   "source": [
    "# Create model -- Random Forest\n",
    "rf = RandomForestRegressor(max_depth=2, random_state=42)\n",
    "rf.fit(X_train, y_train)\n",
    "\n",
    "# Make predictions \n",
    "y_rf_train_pred = rf.predict(X_train)\n",
    "y_rf_test_pred = rf.predict(X_test)"
   ]
  },
  {
   "cell_type": "code",
   "execution_count": 644,
   "id": "fe65c5ab",
   "metadata": {},
   "outputs": [
    {
     "name": "stdout",
     "output_type": "stream",
     "text": [
      "          Method Training MSE  Test MSE\n",
      "0  Random Forest     0.779792  0.916041\n"
     ]
    }
   ],
   "source": [
    "# Model Performance \n",
    "rf_train_mse = mean_squared_error(y_train, y_rf_train_pred)\n",
    "\n",
    "\n",
    "rf_test_mse = mean_squared_error(y_test, y_rf_test_pred)\n",
    "\n",
    "\n",
    "rf_results = pd.DataFrame(['Random Forest', rf_train_mse, rf_test_mse,]).transpose()\n",
    "rf_results.columns = ['Method', 'Training MSE','Test MSE']\n",
    "\n",
    "print(rf_results)\n",
    "\n"
   ]
  },
  {
   "cell_type": "code",
   "execution_count": 645,
   "id": "dccb4d6b",
   "metadata": {},
   "outputs": [
    {
     "name": "stdout",
     "output_type": "stream",
     "text": [
      "1.0056822901375464\n"
     ]
    }
   ],
   "source": [
    "# Multiple Linear Regression Model \n",
    "LR = LinearRegression() \n",
    "\n",
    "# Fit training data \n",
    "LR.fit(X_train, y_train)\n",
    "\n",
    "y_prediction = LR.predict(X_test)\n",
    "mse = mean_squared_error(y_test,y_prediction)\n",
    "print(mse) "
   ]
  },
  {
   "cell_type": "code",
   "execution_count": null,
   "id": "a128b875",
   "metadata": {},
   "outputs": [],
   "source": []
  }
 ],
 "metadata": {
  "kernelspec": {
   "display_name": "Python 3 (ipykernel)",
   "language": "python",
   "name": "python3"
  },
  "language_info": {
   "codemirror_mode": {
    "name": "ipython",
    "version": 3
   },
   "file_extension": ".py",
   "mimetype": "text/x-python",
   "name": "python",
   "nbconvert_exporter": "python",
   "pygments_lexer": "ipython3",
   "version": "3.9.7"
  }
 },
 "nbformat": 4,
 "nbformat_minor": 5
}
